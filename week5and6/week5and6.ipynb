{
 "cells": [
  {
   "cell_type": "markdown",
   "metadata": {},
   "source": [
    "Complete the following exercises. You can submit a Jupyter Notebook or a PDF of your code. If you submit a .py file you need to also include a PDF or attachment of your results.\n",
    "\n",
    "1. Data Wrangling with Python: Activity 7, page 207\n",
    "\n",
    "2. Data Wrangling with Python: Activity 8, page 233\n",
    "\n",
    "3. Insert data into a SQL Lite database – create a table with the following data (Hint: Python for Data Analysis page 191):\n",
    "\n",
    "a. Name, Address, City, State, Zip, Phone Number\n",
    "\n",
    "b. Add at least 10 rows of data and submit your code with a query generating your results."
   ]
  },
  {
   "cell_type": "code",
   "execution_count": 23,
   "metadata": {},
   "outputs": [],
   "source": [
    "# 1. Data Wrangling with Python: Activity 7, page 207\n",
    "\n",
    "# Activity 7: Reading Tabular data from a Web Page and Creating Dataframes\n",
    "# In this activity, you have been given a Wikipedia page where you have the GDP of all countries listed\n",
    "# You have been asked to create 3 dataframes from the three sources mentioned in the page\n",
    "# URL - https://en.wikipedia.org/wiki/List_of_countries_by_GDP_(nominal)\n",
    "\n",
    "\n",
    "# Task 1: Open page in separate Chrome/Firefox tab and Inspect Element to see the source code and understand structure.\n",
    "# Done\n",
    "# Saved the file as - List_of_countries_by_GDP_(nominal).html\n",
    "# Also reading the url through code, however there seems some formatting issue or special characters and they \n",
    "# have been read and written as binary\n",
    "# See writeToHTML function for more details."
   ]
  },
  {
   "cell_type": "code",
   "execution_count": 24,
   "metadata": {},
   "outputs": [
    {
     "name": "stdout",
     "output_type": "stream",
     "text": [
      "Writing to File..Start\n",
      "Writing to File..Done\n"
     ]
    }
   ],
   "source": [
    "# Task 2: Read the page using bs4\n",
    "from bs4 import BeautifulSoup\n",
    "import pandas as pd\n",
    "\n",
    "# Wrting the result to a file out.html\n",
    "def writeToHTML(result):\n",
    "    print(\"Writing to File..Start\")\n",
    "    with open(\"out.html\", 'wb') as f:\n",
    "        f.write(result)\n",
    "    print(\"Writing to File..Done\")\n",
    "\n",
    "import urllib.request\n",
    "\n",
    "# Reading the HTML Page\n",
    "with urllib.request.urlopen(\"https://en.wikipedia.org/wiki/List_of_countries_by_GDP_(nominal)\") as url:\n",
    "    s = url.read()\n",
    "    # I'm guessing this would output the html source code ?\n",
    "    writeToHTML(s)\n"
   ]
  },
  {
   "cell_type": "code",
   "execution_count": 102,
   "metadata": {},
   "outputs": [
    {
     "name": "stdout",
     "output_type": "stream",
     "text": [
      "<class 'bs4.BeautifulSoup'>\n"
     ]
    }
   ],
   "source": [
    "# Reading the downloaded file - out.html\n",
    "#with open(\"List_of_countries_by_GDP_(nominal).html\", \"r\", encoding =\"utf-8\") as fd:\n",
    "#    soup = BeautifulSoup(fd, \"html.parser\")\n",
    "#    print(type(soup))\n",
    "\n",
    "with open(\"out.html\", \"r\", encoding=\"utf-8\") as fd1:\n",
    "    soup = BeautifulSoup(fd1, \"html.parser\")\n",
    "    print(type(soup))"
   ]
  },
  {
   "cell_type": "code",
   "execution_count": 103,
   "metadata": {},
   "outputs": [
    {
     "name": "stdout",
     "output_type": "stream",
     "text": [
      "Total number of tables are 14 \n"
     ]
    }
   ],
   "source": [
    "# Task 3: Find the tables you will need to deal with(how many tables are there?)\n",
    "all_tables = soup.find_all(\"table\")\n",
    "#all_tables1 = soup1.find_all(\"table\")\n",
    "print(\"Total number of tables are {} \".format(len(all_tables)))\n",
    "#print(\"Total number of tables are {} \".format(len(all_tables1)))\n"
   ]
  },
  {
   "cell_type": "code",
   "execution_count": 104,
   "metadata": {},
   "outputs": [
    {
     "name": "stdout",
     "output_type": "stream",
     "text": [
      "<class 'bs4.element.Tag'>\n"
     ]
    }
   ],
   "source": [
    "# Task 4: Find the right table using bs4 \n",
    "# After inspecting the data, we find that the one with class=\"wikitable\" is the outermost table that holds\n",
    "# 3 tables inside it.\n",
    "data_table = soup.find(\"table\", {\"class\": \"wikitable\"})\n",
    "print(type(data_table))"
   ]
  },
  {
   "cell_type": "code",
   "execution_count": 105,
   "metadata": {},
   "outputs": [
    {
     "name": "stdout",
     "output_type": "stream",
     "text": [
      "3\n"
     ]
    }
   ],
   "source": [
    "# Task 5: Seperate the source names and their corresponding data\n",
    "sources = data_table.tbody.findAll('tr', recursive=False)[0]\n",
    "sources_list = [td for td in sources.findAll('td')]\n",
    "print(len(sources_list))"
   ]
  },
  {
   "cell_type": "code",
   "execution_count": 106,
   "metadata": {},
   "outputs": [],
   "source": [
    "data = data_table.tbody.findAll('tr', recursive=False)[1].findAll('td', recursive=False)"
   ]
  },
  {
   "cell_type": "code",
   "execution_count": 107,
   "metadata": {},
   "outputs": [],
   "source": [
    "data_tables = []\n",
    "for td in data:\n",
    "    data_tables.append(td.findAll('table'))"
   ]
  },
  {
   "cell_type": "code",
   "execution_count": 108,
   "metadata": {},
   "outputs": [
    {
     "data": {
      "text/plain": [
       "3"
      ]
     },
     "execution_count": 108,
     "metadata": {},
     "output_type": "execute_result"
    }
   ],
   "source": [
    "len(data_tables)"
   ]
  },
  {
   "cell_type": "code",
   "execution_count": 109,
   "metadata": {},
   "outputs": [
    {
     "name": "stdout",
     "output_type": "stream",
     "text": [
      "['International Monetary Fund', 'World Bank', 'United Nations']\n"
     ]
    }
   ],
   "source": [
    "# Task 6: Get the source name from the list of sources created\n",
    "source_names = [source.findAll('a')[0].getText() for source in sources_list]\n",
    "print(source_names)"
   ]
  },
  {
   "cell_type": "code",
   "execution_count": 110,
   "metadata": {},
   "outputs": [
    {
     "data": {
      "text/plain": [
       "['Rank', 'Country/Territory', 'GDP(US$million)']"
      ]
     },
     "execution_count": 110,
     "metadata": {},
     "output_type": "execute_result"
    }
   ],
   "source": [
    "# Task 7: Separate the header and data from the data that you separated before for the first source only\n",
    "# and then create datafram using that\n",
    "header1 = [th.getText().strip() for th in data_tables[0][0].findAll('tbody')[0].findAll('th')]\n",
    "header1"
   ]
  },
  {
   "cell_type": "code",
   "execution_count": 111,
   "metadata": {},
   "outputs": [
    {
     "data": {
      "text/html": [
       "<div>\n",
       "<style scoped>\n",
       "    .dataframe tbody tr th:only-of-type {\n",
       "        vertical-align: middle;\n",
       "    }\n",
       "\n",
       "    .dataframe tbody tr th {\n",
       "        vertical-align: top;\n",
       "    }\n",
       "\n",
       "    .dataframe thead th {\n",
       "        text-align: right;\n",
       "    }\n",
       "</style>\n",
       "<table border=\"1\" class=\"dataframe\">\n",
       "  <thead>\n",
       "    <tr style=\"text-align: right;\">\n",
       "      <th></th>\n",
       "      <th>Rank</th>\n",
       "      <th>Country/Territory</th>\n",
       "      <th>GDP(US$million)</th>\n",
       "    </tr>\n",
       "  </thead>\n",
       "  <tbody>\n",
       "    <tr>\n",
       "      <th>0</th>\n",
       "      <td>1</td>\n",
       "      <td>United States</td>\n",
       "      <td>20,807,269</td>\n",
       "    </tr>\n",
       "    <tr>\n",
       "      <th>1</th>\n",
       "      <td>2</td>\n",
       "      <td>China[n 2][n 3]</td>\n",
       "      <td>14,860,775</td>\n",
       "    </tr>\n",
       "    <tr>\n",
       "      <th>2</th>\n",
       "      <td>3</td>\n",
       "      <td>Japan</td>\n",
       "      <td>4,910,580</td>\n",
       "    </tr>\n",
       "    <tr>\n",
       "      <th>3</th>\n",
       "      <td>4</td>\n",
       "      <td>Germany</td>\n",
       "      <td>3,780,553</td>\n",
       "    </tr>\n",
       "    <tr>\n",
       "      <th>4</th>\n",
       "      <td>5</td>\n",
       "      <td>United Kingdom</td>\n",
       "      <td>2,638,296</td>\n",
       "    </tr>\n",
       "  </tbody>\n",
       "</table>\n",
       "</div>"
      ],
      "text/plain": [
       "  Rank Country/Territory GDP(US$million)\n",
       "0    1     United States      20,807,269\n",
       "1    2   China[n 2][n 3]      14,860,775\n",
       "2    3             Japan       4,910,580\n",
       "3    4           Germany       3,780,553\n",
       "4    5    United Kingdom       2,638,296"
      ]
     },
     "execution_count": 111,
     "metadata": {},
     "output_type": "execute_result"
    }
   ],
   "source": [
    "# removing the top entry of combined world. Only present in first table\n",
    "rows1 = data_tables[0][0].findAll('tbody')[0].findAll('tr')[2:]\n",
    "data_rows1 = [[td.get_text().strip() for td in tr.findAll('td')] for tr in rows1]\n",
    "df1 = pd.DataFrame(data_rows1, columns=header1)\n",
    "df1.head()"
   ]
  },
  {
   "cell_type": "code",
   "execution_count": 112,
   "metadata": {},
   "outputs": [
    {
     "data": {
      "text/plain": [
       "['Rank', 'Country/Territory', 'GDP(US$million)']"
      ]
     },
     "execution_count": 112,
     "metadata": {},
     "output_type": "execute_result"
    }
   ],
   "source": [
    "# Task 8: Repeat the last task for other two data sources\n",
    "header2 = [th.getText().strip() for th in data_tables[1][0].findAll('tbody')[0].findAll('th')]\n",
    "header2"
   ]
  },
  {
   "cell_type": "code",
   "execution_count": 113,
   "metadata": {},
   "outputs": [
    {
     "data": {
      "text/html": [
       "<div>\n",
       "<style scoped>\n",
       "    .dataframe tbody tr th:only-of-type {\n",
       "        vertical-align: middle;\n",
       "    }\n",
       "\n",
       "    .dataframe tbody tr th {\n",
       "        vertical-align: top;\n",
       "    }\n",
       "\n",
       "    .dataframe thead th {\n",
       "        text-align: right;\n",
       "    }\n",
       "</style>\n",
       "<table border=\"1\" class=\"dataframe\">\n",
       "  <thead>\n",
       "    <tr style=\"text-align: right;\">\n",
       "      <th></th>\n",
       "      <th>Rank</th>\n",
       "      <th>Country/Territory</th>\n",
       "      <th>GDP(US$million)</th>\n",
       "    </tr>\n",
       "  </thead>\n",
       "  <tbody>\n",
       "    <tr>\n",
       "      <th>0</th>\n",
       "      <td>1</td>\n",
       "      <td>United States</td>\n",
       "      <td>21,427,700</td>\n",
       "    </tr>\n",
       "    <tr>\n",
       "      <th>1</th>\n",
       "      <td>2</td>\n",
       "      <td>China[n 8]</td>\n",
       "      <td>14,342,903</td>\n",
       "    </tr>\n",
       "    <tr>\n",
       "      <th>2</th>\n",
       "      <td>3</td>\n",
       "      <td>Japan</td>\n",
       "      <td>5,081,770</td>\n",
       "    </tr>\n",
       "    <tr>\n",
       "      <th>3</th>\n",
       "      <td>4</td>\n",
       "      <td>Germany</td>\n",
       "      <td>3,845,630</td>\n",
       "    </tr>\n",
       "    <tr>\n",
       "      <th>4</th>\n",
       "      <td>5</td>\n",
       "      <td>India</td>\n",
       "      <td>2,875,142</td>\n",
       "    </tr>\n",
       "  </tbody>\n",
       "</table>\n",
       "</div>"
      ],
      "text/plain": [
       "  Rank Country/Territory GDP(US$million)\n",
       "0    1     United States      21,427,700\n",
       "1    2        China[n 8]      14,342,903\n",
       "2    3             Japan       5,081,770\n",
       "3    4           Germany       3,845,630\n",
       "4    5             India       2,875,142"
      ]
     },
     "execution_count": 113,
     "metadata": {},
     "output_type": "execute_result"
    }
   ],
   "source": [
    "rows2 = data_tables[1][0].findAll('tbody')[0].findAll('tr')[2:]\n",
    "data_rows2 = [[td.get_text().strip() for td in tr.findAll('td')] for tr in rows2]\n",
    "df2 = pd.DataFrame(data_rows2, columns=header2)\n",
    "df2.head()"
   ]
  },
  {
   "cell_type": "code",
   "execution_count": 114,
   "metadata": {},
   "outputs": [
    {
     "data": {
      "text/plain": [
       "['Rank', 'Country/Territory', 'GDP(US$million)']"
      ]
     },
     "execution_count": 114,
     "metadata": {},
     "output_type": "execute_result"
    }
   ],
   "source": [
    "header3 = [th.getText().strip() for th in data_tables[2][0].findAll('tbody')[0].findAll('th')]\n",
    "header3"
   ]
  },
  {
   "cell_type": "code",
   "execution_count": 115,
   "metadata": {},
   "outputs": [
    {
     "data": {
      "text/html": [
       "<div>\n",
       "<style scoped>\n",
       "    .dataframe tbody tr th:only-of-type {\n",
       "        vertical-align: middle;\n",
       "    }\n",
       "\n",
       "    .dataframe tbody tr th {\n",
       "        vertical-align: top;\n",
       "    }\n",
       "\n",
       "    .dataframe thead th {\n",
       "        text-align: right;\n",
       "    }\n",
       "</style>\n",
       "<table border=\"1\" class=\"dataframe\">\n",
       "  <thead>\n",
       "    <tr style=\"text-align: right;\">\n",
       "      <th></th>\n",
       "      <th>Rank</th>\n",
       "      <th>Country/Territory</th>\n",
       "      <th>GDP(US$million)</th>\n",
       "    </tr>\n",
       "  </thead>\n",
       "  <tbody>\n",
       "    <tr>\n",
       "      <th>0</th>\n",
       "      <td>1</td>\n",
       "      <td>United States</td>\n",
       "      <td>21,433,226</td>\n",
       "    </tr>\n",
       "    <tr>\n",
       "      <th>1</th>\n",
       "      <td>2</td>\n",
       "      <td>China[n 8]</td>\n",
       "      <td>14,342,933</td>\n",
       "    </tr>\n",
       "    <tr>\n",
       "      <th>2</th>\n",
       "      <td>3</td>\n",
       "      <td>Japan</td>\n",
       "      <td>5,082,465</td>\n",
       "    </tr>\n",
       "    <tr>\n",
       "      <th>3</th>\n",
       "      <td>4</td>\n",
       "      <td>Germany</td>\n",
       "      <td>3,861,123</td>\n",
       "    </tr>\n",
       "    <tr>\n",
       "      <th>4</th>\n",
       "      <td>5</td>\n",
       "      <td>India</td>\n",
       "      <td>2,891,582</td>\n",
       "    </tr>\n",
       "  </tbody>\n",
       "</table>\n",
       "</div>"
      ],
      "text/plain": [
       "  Rank Country/Territory GDP(US$million)\n",
       "0    1     United States      21,433,226\n",
       "1    2        China[n 8]      14,342,933\n",
       "2    3             Japan       5,082,465\n",
       "3    4           Germany       3,861,123\n",
       "4    5             India       2,891,582"
      ]
     },
     "execution_count": 115,
     "metadata": {},
     "output_type": "execute_result"
    }
   ],
   "source": [
    "rows3 = data_tables[2][0].findAll('tbody')[0].findAll('tr')[2:]\n",
    "data_rows3 = [[td.get_text().strip() for td in tr.findAll('td')] for tr in rows3]\n",
    "df3 = pd.DataFrame(data_rows3, columns=header3)\n",
    "df3.head()"
   ]
  },
  {
   "cell_type": "code",
   "execution_count": null,
   "metadata": {},
   "outputs": [],
   "source": [
    "# 2. Data Wrangling with Python: Activity 8, page 233\n",
    "# In this activity we will identofy and get rid of outliers. Here we have a csv file. The goal is to clean the data\n",
    "# using knowledge we have learned so far and come up with nicely formatted Dataframe. Identify the type of Outliers\n",
    "# and their effect on data and clean the messy data"
   ]
  },
  {
   "cell_type": "code",
   "execution_count": 127,
   "metadata": {},
   "outputs": [],
   "source": [
    "# Step 1: Read the visit_data.csv file\n",
    "\n",
    "#importing the libraries\n",
    "import pandas as pd\n",
    "import numpy as np\n",
    "import matplotlib.pyplot as plt\n"
   ]
  },
  {
   "cell_type": "code",
   "execution_count": 117,
   "metadata": {},
   "outputs": [
    {
     "data": {
      "text/html": [
       "<div>\n",
       "<style scoped>\n",
       "    .dataframe tbody tr th:only-of-type {\n",
       "        vertical-align: middle;\n",
       "    }\n",
       "\n",
       "    .dataframe tbody tr th {\n",
       "        vertical-align: top;\n",
       "    }\n",
       "\n",
       "    .dataframe thead th {\n",
       "        text-align: right;\n",
       "    }\n",
       "</style>\n",
       "<table border=\"1\" class=\"dataframe\">\n",
       "  <thead>\n",
       "    <tr style=\"text-align: right;\">\n",
       "      <th></th>\n",
       "      <th>id</th>\n",
       "      <th>first_name</th>\n",
       "      <th>last_name</th>\n",
       "      <th>email</th>\n",
       "      <th>gender</th>\n",
       "      <th>ip_address</th>\n",
       "      <th>visit</th>\n",
       "    </tr>\n",
       "  </thead>\n",
       "  <tbody>\n",
       "    <tr>\n",
       "      <th>0</th>\n",
       "      <td>1</td>\n",
       "      <td>Sonny</td>\n",
       "      <td>Dahl</td>\n",
       "      <td>sdahl0@mysql.com</td>\n",
       "      <td>Male</td>\n",
       "      <td>135.36.96.183</td>\n",
       "      <td>1225.0</td>\n",
       "    </tr>\n",
       "    <tr>\n",
       "      <th>1</th>\n",
       "      <td>2</td>\n",
       "      <td>NaN</td>\n",
       "      <td>NaN</td>\n",
       "      <td>dhoovart1@hud.gov</td>\n",
       "      <td>NaN</td>\n",
       "      <td>237.165.194.143</td>\n",
       "      <td>919.0</td>\n",
       "    </tr>\n",
       "    <tr>\n",
       "      <th>2</th>\n",
       "      <td>3</td>\n",
       "      <td>Gar</td>\n",
       "      <td>Armal</td>\n",
       "      <td>garmal2@technorati.com</td>\n",
       "      <td>NaN</td>\n",
       "      <td>166.43.137.224</td>\n",
       "      <td>271.0</td>\n",
       "    </tr>\n",
       "    <tr>\n",
       "      <th>3</th>\n",
       "      <td>4</td>\n",
       "      <td>Chiarra</td>\n",
       "      <td>Nulty</td>\n",
       "      <td>cnulty3@newyorker.com</td>\n",
       "      <td>NaN</td>\n",
       "      <td>139.98.137.108</td>\n",
       "      <td>1002.0</td>\n",
       "    </tr>\n",
       "    <tr>\n",
       "      <th>4</th>\n",
       "      <td>5</td>\n",
       "      <td>NaN</td>\n",
       "      <td>NaN</td>\n",
       "      <td>sleaver4@elegantthemes.com</td>\n",
       "      <td>NaN</td>\n",
       "      <td>46.117.117.27</td>\n",
       "      <td>2434.0</td>\n",
       "    </tr>\n",
       "  </tbody>\n",
       "</table>\n",
       "</div>"
      ],
      "text/plain": [
       "   id first_name last_name                       email gender  \\\n",
       "0   1      Sonny      Dahl            sdahl0@mysql.com   Male   \n",
       "1   2        NaN       NaN           dhoovart1@hud.gov    NaN   \n",
       "2   3        Gar     Armal      garmal2@technorati.com    NaN   \n",
       "3   4    Chiarra     Nulty       cnulty3@newyorker.com    NaN   \n",
       "4   5        NaN       NaN  sleaver4@elegantthemes.com    NaN   \n",
       "\n",
       "        ip_address   visit  \n",
       "0    135.36.96.183  1225.0  \n",
       "1  237.165.194.143   919.0  \n",
       "2   166.43.137.224   271.0  \n",
       "3   139.98.137.108  1002.0  \n",
       "4    46.117.117.27  2434.0  "
      ]
     },
     "execution_count": 117,
     "metadata": {},
     "output_type": "execute_result"
    }
   ],
   "source": [
    "df = pd.read_csv(\"visit_data.csv\")\n",
    "df.head()"
   ]
  },
  {
   "cell_type": "code",
   "execution_count": 120,
   "metadata": {},
   "outputs": [
    {
     "data": {
      "text/plain": [
       "'Is Any Email duplicate ? - False'"
      ]
     },
     "execution_count": 120,
     "metadata": {},
     "output_type": "execute_result"
    }
   ],
   "source": [
    "# Step 2: Check for Duplicates\n",
    "# To check for duplicates, let us assume that email should be unique, as one can have only one email id\n",
    "\"Is Any Email duplicate ? - {}\".format(any(df.email.duplicated()))"
   ]
  },
  {
   "cell_type": "code",
   "execution_count": 121,
   "metadata": {},
   "outputs": [
    {
     "name": "stdout",
     "output_type": "stream",
     "text": [
      "Does Email contains NaN - False \n",
      "Does IP Address contains NaN - False \n",
      "Does Visit contains NaN - True \n"
     ]
    }
   ],
   "source": [
    "# Step 3: Check if any essential columns contain NaN\n",
    "# Assuming email, ip_address and visit are essential columns\n",
    "\n",
    "print(\"Does Email contains NaN - %r \" % df.email.isnull().values.any())\n",
    "print(\"Does IP Address contains NaN - %s \" % df.ip_address.isnull().values.any())\n",
    "print(\"Does Visit contains NaN - %s \" % df.visit.isnull().values.any())\n",
    "\n",
    "# As per output below visit seems to be null or NaN"
   ]
  },
  {
   "cell_type": "code",
   "execution_count": 122,
   "metadata": {},
   "outputs": [],
   "source": [
    "# Step 4: Get rid of outliers\n",
    "# To get rid of outliers we will remove the rows where visit is null or NaN\n",
    "df_new = df[np.isfinite(df['visit'])]"
   ]
  },
  {
   "cell_type": "code",
   "execution_count": 123,
   "metadata": {},
   "outputs": [
    {
     "name": "stdout",
     "output_type": "stream",
     "text": [
      "Shape Before Change (1000, 7)\n",
      "Shape After Change (974, 7)\n"
     ]
    }
   ],
   "source": [
    "# Step 4: Report the size difference\n",
    "print(\"Shape Before Change\",df.shape)\n",
    "print(\"Shape After Change\",df_new.shape)"
   ]
  },
  {
   "cell_type": "code",
   "execution_count": 125,
   "metadata": {},
   "outputs": [
    {
     "name": "stdout",
     "output_type": "stream",
     "text": [
      "Rows Removed - 26\n"
     ]
    }
   ],
   "source": [
    "# difference of rows or rows removed\n",
    "print(\"Rows Removed -\", df.shape[0] - df_new.shape[0])"
   ]
  },
  {
   "cell_type": "code",
   "execution_count": 129,
   "metadata": {},
   "outputs": [
    {
     "data": {
      "text/plain": [
       "{'whiskers': [<matplotlib.lines.Line2D at 0x1ff0d5c3e80>,\n",
       "  <matplotlib.lines.Line2D at 0x1ff0d5d4160>],\n",
       " 'caps': [<matplotlib.lines.Line2D at 0x1ff0d5d44c0>,\n",
       "  <matplotlib.lines.Line2D at 0x1ff0d5d4820>],\n",
       " 'boxes': [<matplotlib.lines.Line2D at 0x1ff0d5c3b20>],\n",
       " 'medians': [<matplotlib.lines.Line2D at 0x1ff0d5d4b80>],\n",
       " 'fliers': [<matplotlib.lines.Line2D at 0x1ff0d5d4e80>],\n",
       " 'means': []}"
      ]
     },
     "execution_count": 129,
     "metadata": {},
     "output_type": "execute_result"
    },
    {
     "data": {
      "image/png": "[encoded data removed]",
      "text/plain": [
       "<Figure size 432x288 with 1 Axes>"
      ]
     },
     "metadata": {
      "needs_background": "light"
     },
     "output_type": "display_data"
    }
   ],
   "source": [
    "# Step 5: Create a box plot to check for outliers\n",
    "plt.boxplot(df_new.visit, notch=True)"
   ]
  },
  {
   "cell_type": "code",
   "execution_count": 130,
   "metadata": {},
   "outputs": [],
   "source": [
    "# As we can see that we have data in this column in the interval (0, 3000).\n",
    "# However, the main concentration of the data is between ~700 to ~2300. \n",
    "# Let us say that anything beyond 2500 and bellow 500 are outliers for us.\n",
    "# So we will filter them out in next step\n"
   ]
  },
  {
   "cell_type": "code",
   "execution_count": 131,
   "metadata": {},
   "outputs": [],
   "source": [
    "# Step 6: Get Rid of Any Outliers\n",
    "df_cleaned = df_new[(df_new['visit'] <= 2500) & (df_new['visit'] >= 500)]"
   ]
  },
  {
   "cell_type": "code",
   "execution_count": 139,
   "metadata": {},
   "outputs": [
    {
     "name": "stdout",
     "output_type": "stream",
     "text": [
      "Data Left - 686  Rows\n"
     ]
    }
   ],
   "source": [
    "print(\"Data Left - {}  Rows\".format(df_cleaned.shape[0]))"
   ]
  },
  {
   "cell_type": "code",
   "execution_count": 141,
   "metadata": {},
   "outputs": [],
   "source": [
    "# 3. Insert data into a SQL Lite database – create a table with the following data (Hint: Python for Data Analysis page 191):\n",
    "# a. Name, Address, City, State, Zip, Phone Number\n",
    "# b. Add at least 10 rows of data and submit your code with a query generating your results."
   ]
  },
  {
   "cell_type": "code",
   "execution_count": 142,
   "metadata": {},
   "outputs": [],
   "source": [
    "#importing sql lite library\n",
    "import sqlite3"
   ]
  },
  {
   "cell_type": "code",
   "execution_count": 143,
   "metadata": {},
   "outputs": [],
   "source": [
    "# Creating Table\n",
    "query = \"\"\"\n",
    "CREATE TABLE INFO_TABLE\n",
    "(NAME VARCHAR(20), ADDRESS VARCHAR(50), CITY VARCHAR(20), STATE VARCHAR(20), ZIP VARCHAR(10), PHONE VARCHAR(13))\n",
    "\n",
    "\"\"\"\n",
    "# Creates a database connection to hold data in memory\n",
    "con = sqlite3.connect(':memory:')\n",
    "con.execute(query)\n",
    "con.commit()"
   ]
  },
  {
   "cell_type": "code",
   "execution_count": 144,
   "metadata": {},
   "outputs": [
    {
     "data": {
      "text/plain": [
       "<function Connection.commit>"
      ]
     },
     "execution_count": 144,
     "metadata": {},
     "output_type": "execute_result"
    }
   ],
   "source": [
    "# Inserting few rows of Data\n",
    "data = [(\"Alberto\",\"1401 Ravine Way\",\"Los Angeles\",\"California\", \"90876\", \"9876543210\"),\n",
    "        (\"Billy\",\"1402 Ravine Way\",\"Los Angeles\",\"California\", \"90876\", \"9876543211\"),\n",
    "        (\"Catherine\",\"1403 Ravine Way\",\"Los Angeles\",\"California\", \"90876\", \"9876543212\"),\n",
    "        (\"Daisy\",\"1404 Ravine Way\",\"Los Angeles\",\"California\", \"90876\", \"9876543213\"),\n",
    "        (\"Edward\",\"1405 Ravine Way\",\"Los Angeles\",\"California\", \"90876\", \"9876543214\"),\n",
    "        (\"Fleming\",\"1406 Ravine Way\",\"Los Angeles\",\"California\", \"90876\", \"9876543215\"),\n",
    "        (\"Gator\",\"1407 Ravine Way\",\"Los Angeles\",\"California\", \"90876\", \"9876543216\"),\n",
    "        (\"Horatio\",\"1408 Ravine Way\",\"Los Angeles\",\"California\", \"90876\", \"9876543217\"),\n",
    "        (\"Iana\",\"1409 Ravine Way\",\"Los Angeles\",\"California\", \"90876\", \"9876543218\"),\n",
    "        (\"Jack\",\"1410 Ravine Way\",\"Los Angeles\",\"California\", \"90876\", \"9876543219\")]\n",
    "stmt = \"INSERT INTO INFO_TABLE VALUES(?,?,?,?,?,?)\"\n",
    "con.executemany(stmt,data)\n",
    "con.commit"
   ]
  },
  {
   "cell_type": "code",
   "execution_count": 145,
   "metadata": {},
   "outputs": [
    {
     "data": {
      "text/html": [
       "<div>\n",
       "<style scoped>\n",
       "    .dataframe tbody tr th:only-of-type {\n",
       "        vertical-align: middle;\n",
       "    }\n",
       "\n",
       "    .dataframe tbody tr th {\n",
       "        vertical-align: top;\n",
       "    }\n",
       "\n",
       "    .dataframe thead th {\n",
       "        text-align: right;\n",
       "    }\n",
       "</style>\n",
       "<table border=\"1\" class=\"dataframe\">\n",
       "  <thead>\n",
       "    <tr style=\"text-align: right;\">\n",
       "      <th></th>\n",
       "      <th>NAME</th>\n",
       "      <th>ADDRESS</th>\n",
       "      <th>CITY</th>\n",
       "      <th>STATE</th>\n",
       "      <th>ZIP</th>\n",
       "      <th>PHONE</th>\n",
       "    </tr>\n",
       "  </thead>\n",
       "  <tbody>\n",
       "    <tr>\n",
       "      <th>0</th>\n",
       "      <td>Alberto</td>\n",
       "      <td>1401 Ravine Way</td>\n",
       "      <td>Los Angeles</td>\n",
       "      <td>California</td>\n",
       "      <td>90876</td>\n",
       "      <td>9876543210</td>\n",
       "    </tr>\n",
       "    <tr>\n",
       "      <th>1</th>\n",
       "      <td>Billy</td>\n",
       "      <td>1402 Ravine Way</td>\n",
       "      <td>Los Angeles</td>\n",
       "      <td>California</td>\n",
       "      <td>90876</td>\n",
       "      <td>9876543211</td>\n",
       "    </tr>\n",
       "    <tr>\n",
       "      <th>2</th>\n",
       "      <td>Catherine</td>\n",
       "      <td>1403 Ravine Way</td>\n",
       "      <td>Los Angeles</td>\n",
       "      <td>California</td>\n",
       "      <td>90876</td>\n",
       "      <td>9876543212</td>\n",
       "    </tr>\n",
       "    <tr>\n",
       "      <th>3</th>\n",
       "      <td>Daisy</td>\n",
       "      <td>1404 Ravine Way</td>\n",
       "      <td>Los Angeles</td>\n",
       "      <td>California</td>\n",
       "      <td>90876</td>\n",
       "      <td>9876543213</td>\n",
       "    </tr>\n",
       "    <tr>\n",
       "      <th>4</th>\n",
       "      <td>Edward</td>\n",
       "      <td>1405 Ravine Way</td>\n",
       "      <td>Los Angeles</td>\n",
       "      <td>California</td>\n",
       "      <td>90876</td>\n",
       "      <td>9876543214</td>\n",
       "    </tr>\n",
       "    <tr>\n",
       "      <th>5</th>\n",
       "      <td>Fleming</td>\n",
       "      <td>1406 Ravine Way</td>\n",
       "      <td>Los Angeles</td>\n",
       "      <td>California</td>\n",
       "      <td>90876</td>\n",
       "      <td>9876543215</td>\n",
       "    </tr>\n",
       "    <tr>\n",
       "      <th>6</th>\n",
       "      <td>Gator</td>\n",
       "      <td>1407 Ravine Way</td>\n",
       "      <td>Los Angeles</td>\n",
       "      <td>California</td>\n",
       "      <td>90876</td>\n",
       "      <td>9876543216</td>\n",
       "    </tr>\n",
       "    <tr>\n",
       "      <th>7</th>\n",
       "      <td>Horatio</td>\n",
       "      <td>1408 Ravine Way</td>\n",
       "      <td>Los Angeles</td>\n",
       "      <td>California</td>\n",
       "      <td>90876</td>\n",
       "      <td>9876543217</td>\n",
       "    </tr>\n",
       "    <tr>\n",
       "      <th>8</th>\n",
       "      <td>Iana</td>\n",
       "      <td>1409 Ravine Way</td>\n",
       "      <td>Los Angeles</td>\n",
       "      <td>California</td>\n",
       "      <td>90876</td>\n",
       "      <td>9876543218</td>\n",
       "    </tr>\n",
       "    <tr>\n",
       "      <th>9</th>\n",
       "      <td>Jack</td>\n",
       "      <td>1410 Ravine Way</td>\n",
       "      <td>Los Angeles</td>\n",
       "      <td>California</td>\n",
       "      <td>90876</td>\n",
       "      <td>9876543219</td>\n",
       "    </tr>\n",
       "  </tbody>\n",
       "</table>\n",
       "</div>"
      ],
      "text/plain": [
       "        NAME          ADDRESS         CITY       STATE    ZIP       PHONE\n",
       "0    Alberto  1401 Ravine Way  Los Angeles  California  90876  9876543210\n",
       "1      Billy  1402 Ravine Way  Los Angeles  California  90876  9876543211\n",
       "2  Catherine  1403 Ravine Way  Los Angeles  California  90876  9876543212\n",
       "3      Daisy  1404 Ravine Way  Los Angeles  California  90876  9876543213\n",
       "4     Edward  1405 Ravine Way  Los Angeles  California  90876  9876543214\n",
       "5    Fleming  1406 Ravine Way  Los Angeles  California  90876  9876543215\n",
       "6      Gator  1407 Ravine Way  Los Angeles  California  90876  9876543216\n",
       "7    Horatio  1408 Ravine Way  Los Angeles  California  90876  9876543217\n",
       "8       Iana  1409 Ravine Way  Los Angeles  California  90876  9876543218\n",
       "9       Jack  1410 Ravine Way  Los Angeles  California  90876  9876543219"
      ]
     },
     "execution_count": 145,
     "metadata": {},
     "output_type": "execute_result"
    }
   ],
   "source": [
    "# Displaying the inserted data\n",
    "df=pd.read_sql('SELECT * FROM INFO_TABLE', con)\n",
    "df"
   ]
  },
  {
   "cell_type": "code",
   "execution_count": 146,
   "metadata": {},
   "outputs": [],
   "source": [
    "# Closing the connection\n",
    "con.close()"
   ]
  },
  {
   "cell_type": "code",
   "execution_count": null,
   "metadata": {},
   "outputs": [],
   "source": []
  }
 ],
 "metadata": {
  "kernelspec": {
   "display_name": "Python 3",
   "language": "python",
   "name": "python3"
  },
  "language_info": {
   "codemirror_mode": {
    "name": "ipython",
    "version": 3
   },
   "file_extension": ".py",
   "mimetype": "text/x-python",
   "name": "python",
   "nbconvert_exporter": "python",
   "pygments_lexer": "ipython3",
   "version": "3.8.3"
  }
 },
 "nbformat": 4,
 "nbformat_minor": 4
}
