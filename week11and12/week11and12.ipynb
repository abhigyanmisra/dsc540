{
 "cells": [
  {
   "cell_type": "markdown",
   "metadata": {},
   "source": [
    "Complete the following exercise. You can submit a Jupyter Notebook or a PDF of your code. \n",
    "If you submit a .py file you need to also include a PDF or attachment of your results.\n",
    "\n",
    "Data Wrangling with Python: Activity 11, page 320"
   ]
  },
  {
   "cell_type": "code",
   "execution_count": 3,
   "metadata": {},
   "outputs": [],
   "source": [
    "# Activity 11: Retrieving Data Correctly from databases\n",
    "\n",
    "# In the activity we have a persons Table.........See details in textbook. Details about the data\n",
    "# Pg. 320"
   ]
  },
  {
   "cell_type": "code",
   "execution_count": 4,
   "metadata": {},
   "outputs": [],
   "source": [
    "# Step 1: Connect to petsdb and check if connection is successful\n",
    "import sqlite3\n",
    "conn = sqlite3.connect('petsdb')"
   ]
  },
  {
   "cell_type": "code",
   "execution_count": 6,
   "metadata": {},
   "outputs": [
    {
     "name": "stdout",
     "output_type": "stream",
     "text": [
      "Is Connection good ? True\n"
     ]
    }
   ],
   "source": [
    "# function to check if connection is successful\n",
    "def connection_status(conn):\n",
    "    try:\n",
    "        conn.execute(\"SELECT 1 FROM persons\")\n",
    "        return True\n",
    "    except sqlite3.ProgrammingError as e:\n",
    "        print(\"Connection is Closed-\",e)\n",
    "        return False\n",
    "    except Exception as e:\n",
    "        print(\"Other Error-\",e)\n",
    "        return False\n",
    "\n",
    "print(\"Is Connection good ?\",connection_status(conn))"
   ]
  },
  {
   "cell_type": "code",
   "execution_count": 8,
   "metadata": {},
   "outputs": [
    {
     "name": "stdout",
     "output_type": "stream",
     "text": [
      "[('persons',), ('pets',)]\n"
     ]
    }
   ],
   "source": [
    "# Checking all the tables in the db\n",
    "cursor = conn.cursor()\n",
    "cursor.execute(\"SELECT name FROM sqlite_master WHERE type='table';\")\n",
    "print(cursor.fetchall())"
   ]
  },
  {
   "cell_type": "code",
   "execution_count": 10,
   "metadata": {},
   "outputs": [
    {
     "name": "stdout",
     "output_type": "stream",
     "text": [
      "[(0, 'id', 'INTEGER', 0, None, 0), (1, 'first_name', 'TEXT', 0, None, 0), (2, 'last_name', 'TEXT', 0, None, 0), (3, 'age', 'INTEGER', 0, None, 0), (4, 'city', 'TEXT', 0, None, 0), (5, 'zip_code', 'INTEGER', 0, None, 0)]\n"
     ]
    }
   ],
   "source": [
    "# Checking table structure and data types - persons\n",
    "cursor.execute(\"PRAGMA table_info([persons])\")\n",
    "print(cursor.fetchall())\n",
    "\n",
    "# SELF NOTES\n",
    "# PRAGMA is equivalent of DESCRIBE"
   ]
  },
  {
   "cell_type": "code",
   "execution_count": 11,
   "metadata": {},
   "outputs": [
    {
     "name": "stdout",
     "output_type": "stream",
     "text": [
      "[(0, 'owner_id', 'INTEGER', 0, None, 0), (1, 'pet_name', 'TEXT', 0, None, 0), (2, 'pet_type', 'REAL', 0, None, 0), (3, 'treatment_done', 'INTEGER', 0, None, 0)]\n"
     ]
    }
   ],
   "source": [
    "# Checking table structure and data types - pets\n",
    "cursor.execute(\"PRAGMA table_info([pets])\")\n",
    "print(cursor.fetchall())"
   ]
  },
  {
   "cell_type": "code",
   "execution_count": 12,
   "metadata": {},
   "outputs": [
    {
     "name": "stdout",
     "output_type": "stream",
     "text": [
      "AgeGroup - 5 - Count of People - 2\n",
      "AgeGroup - 6 - Count of People - 1\n",
      "AgeGroup - 7 - Count of People - 1\n",
      "AgeGroup - 8 - Count of People - 3\n",
      "AgeGroup - 9 - Count of People - 1\n",
      "AgeGroup - 11 - Count of People - 2\n",
      "AgeGroup - 12 - Count of People - 3\n",
      "AgeGroup - 13 - Count of People - 1\n",
      "AgeGroup - 14 - Count of People - 4\n",
      "AgeGroup - 16 - Count of People - 2\n",
      "AgeGroup - 17 - Count of People - 2\n",
      "AgeGroup - 18 - Count of People - 3\n",
      "AgeGroup - 19 - Count of People - 1\n",
      "AgeGroup - 22 - Count of People - 3\n",
      "AgeGroup - 23 - Count of People - 2\n",
      "AgeGroup - 24 - Count of People - 3\n",
      "AgeGroup - 25 - Count of People - 2\n",
      "AgeGroup - 27 - Count of People - 1\n",
      "AgeGroup - 30 - Count of People - 1\n",
      "AgeGroup - 31 - Count of People - 3\n",
      "AgeGroup - 32 - Count of People - 1\n",
      "AgeGroup - 33 - Count of People - 1\n",
      "AgeGroup - 34 - Count of People - 2\n",
      "AgeGroup - 35 - Count of People - 3\n",
      "AgeGroup - 36 - Count of People - 3\n",
      "AgeGroup - 37 - Count of People - 1\n",
      "AgeGroup - 39 - Count of People - 2\n",
      "AgeGroup - 40 - Count of People - 1\n",
      "AgeGroup - 42 - Count of People - 1\n",
      "AgeGroup - 44 - Count of People - 2\n",
      "AgeGroup - 48 - Count of People - 2\n",
      "AgeGroup - 49 - Count of People - 1\n",
      "AgeGroup - 50 - Count of People - 1\n",
      "AgeGroup - 51 - Count of People - 2\n",
      "AgeGroup - 52 - Count of People - 2\n",
      "AgeGroup - 53 - Count of People - 2\n",
      "AgeGroup - 54 - Count of People - 2\n",
      "AgeGroup - 58 - Count of People - 1\n",
      "AgeGroup - 59 - Count of People - 1\n",
      "AgeGroup - 60 - Count of People - 1\n",
      "AgeGroup - 61 - Count of People - 1\n",
      "AgeGroup - 62 - Count of People - 2\n",
      "AgeGroup - 63 - Count of People - 1\n",
      "AgeGroup - 65 - Count of People - 2\n",
      "AgeGroup - 66 - Count of People - 2\n",
      "AgeGroup - 67 - Count of People - 1\n",
      "AgeGroup - 68 - Count of People - 3\n",
      "AgeGroup - 69 - Count of People - 1\n",
      "AgeGroup - 70 - Count of People - 1\n",
      "AgeGroup - 71 - Count of People - 4\n",
      "AgeGroup - 72 - Count of People - 1\n",
      "AgeGroup - 73 - Count of People - 5\n",
      "AgeGroup - 74 - Count of People - 3\n"
     ]
    }
   ],
   "source": [
    "# Step 2: Find the different age groups in the persons database\n",
    "for pplCnt, ageGroup in cursor.execute(\"SELECT count(*), age FROM persons GROUP BY age\"):\n",
    "    print(\"AgeGroup - {} - Count of People - {}\".format(ageGroup,pplCnt))"
   ]
  },
  {
   "cell_type": "code",
   "execution_count": 13,
   "metadata": {},
   "outputs": [
    {
     "name": "stdout",
     "output_type": "stream",
     "text": [
      "AgeGroup - 73 - Count of People - 5\n"
     ]
    }
   ],
   "source": [
    "# Step 3: Find the age group that has maximum number of people\n",
    "# ordering the above query by descending count. So the top will be the max\n",
    "for pplCnt, ageGroup in cursor.execute(\"SELECT count(*), age FROM persons GROUP BY age ORDER BY count(*) DESC\"):\n",
    "    print(\"AgeGroup - {} - Count of People - {}\".format(ageGroup,pplCnt))\n",
    "    break"
   ]
  },
  {
   "cell_type": "code",
   "execution_count": 14,
   "metadata": {},
   "outputs": [
    {
     "name": "stdout",
     "output_type": "stream",
     "text": [
      "People Count with No Last Name -  (60,)\n",
      "First Names of people with No Last Name -  ('Erica',)\n",
      "First Names of people with No Last Name -  ('Jordi',)\n",
      "First Names of people with No Last Name -  ('Chasity',)\n",
      "First Names of people with No Last Name -  ('Gregg',)\n",
      "First Names of people with No Last Name -  ('Cary',)\n",
      "First Names of people with No Last Name -  ('Francisca',)\n",
      "First Names of people with No Last Name -  ('Raleigh',)\n",
      "First Names of people with No Last Name -  ('Maria',)\n",
      "First Names of people with No Last Name -  ('Mariane',)\n",
      "First Names of people with No Last Name -  ('Mona',)\n",
      "First Names of people with No Last Name -  ('Kayla',)\n",
      "First Names of people with No Last Name -  ('Karlie',)\n",
      "First Names of people with No Last Name -  ('Morris',)\n",
      "First Names of people with No Last Name -  ('Sandy',)\n",
      "First Names of people with No Last Name -  ('Hector',)\n",
      "First Names of people with No Last Name -  ('Hiram',)\n",
      "First Names of people with No Last Name -  ('Tressa',)\n",
      "First Names of people with No Last Name -  ('Berry',)\n",
      "First Names of people with No Last Name -  ('Pearline',)\n",
      "First Names of people with No Last Name -  ('Maynard',)\n",
      "First Names of people with No Last Name -  ('Dorian',)\n",
      "First Names of people with No Last Name -  ('Mylene',)\n",
      "First Names of people with No Last Name -  ('Lafayette',)\n",
      "First Names of people with No Last Name -  ('Tara',)\n",
      "First Names of people with No Last Name -  ('Destiny',)\n",
      "First Names of people with No Last Name -  ('Lesly',)\n",
      "First Names of people with No Last Name -  ('Perry',)\n",
      "First Names of people with No Last Name -  ('Maritza',)\n",
      "First Names of people with No Last Name -  ('Grant',)\n",
      "First Names of people with No Last Name -  ('Laury',)\n",
      "First Names of people with No Last Name -  ('Name',)\n",
      "First Names of people with No Last Name -  ('Estefania',)\n",
      "First Names of people with No Last Name -  ('Destiney',)\n",
      "First Names of people with No Last Name -  ('Jaquelin',)\n",
      "First Names of people with No Last Name -  ('Alfonzo',)\n",
      "First Names of people with No Last Name -  ('Lisandro',)\n",
      "First Names of people with No Last Name -  ('Priscilla',)\n",
      "First Names of people with No Last Name -  ('Elenora',)\n",
      "First Names of people with No Last Name -  ('Rudolph',)\n",
      "First Names of people with No Last Name -  ('Ona',)\n",
      "First Names of people with No Last Name -  ('Rebeca',)\n",
      "First Names of people with No Last Name -  ('Sigurd',)\n",
      "First Names of people with No Last Name -  ('Alice',)\n",
      "First Names of people with No Last Name -  ('Dane',)\n",
      "First Names of people with No Last Name -  ('Judge',)\n",
      "First Names of people with No Last Name -  ('Allene',)\n",
      "First Names of people with No Last Name -  ('Jalen',)\n",
      "First Names of people with No Last Name -  ('Myron',)\n",
      "First Names of people with No Last Name -  ('Travon',)\n",
      "First Names of people with No Last Name -  ('Shayna',)\n",
      "First Names of people with No Last Name -  ('Myah',)\n",
      "First Names of people with No Last Name -  ('Letha',)\n",
      "First Names of people with No Last Name -  ('Felton',)\n",
      "First Names of people with No Last Name -  ('London',)\n",
      "First Names of people with No Last Name -  ('Koby',)\n",
      "First Names of people with No Last Name -  ('Golden',)\n",
      "First Names of people with No Last Name -  ('Anissa',)\n",
      "First Names of people with No Last Name -  ('Sid',)\n",
      "First Names of people with No Last Name -  ('Ernesto',)\n",
      "First Names of people with No Last Name -  ('Josianne',)\n"
     ]
    }
   ],
   "source": [
    "# Step 4: Find the people who do not have last name\n",
    "# Count of people who do not have last name\n",
    "for result in cursor.execute(\"SELECT count(*) FROM persons where last_name is null\"):\n",
    "    print(\"People Count with No Last Name - \",result)\n",
    "    break\n",
    "# First name of people with no last name\n",
    "for result in cursor.execute(\"SELECT first_name FROM persons where last_name is null\"):\n",
    "    print(\"First Names of people with No Last Name - \",result)"
   ]
  },
  {
   "cell_type": "code",
   "execution_count": 17,
   "metadata": {},
   "outputs": [
    {
     "name": "stdout",
     "output_type": "stream",
     "text": [
      "[(3,), (3,), (2,), (3,), (2,), (3,), (2,), (2,), (2,), (2,), (2,), (3,), (2,), (3,), (2,), (5,), (2,), (2,), (3,), (3,), (3,), (4,), (2,), (2,), (4,), (3,), (3,), (2,), (2,), (2,), (3,), (3,), (2,), (5,), (3,), (2,), (3,), (3,), (2,), (2,), (3,), (3,), (2,)]\n",
      "People Count with more than 1 PET - (43,)\n"
     ]
    }
   ],
   "source": [
    "# Step 5: Find people who have more than one pet\n",
    "# This is all counts of pets for > 1\n",
    "cursor.execute(\"SELECT count(owner_id) FROM  pets GROUP BY owner_id HAVING count(owner_id) > 1\")\n",
    "print(cursor.fetchall())\n",
    "\n",
    "# add up all the results from previous query\n",
    "for result in cursor.execute(\"SELECT count(*) FROM (SELECT count(owner_id) FROM  pets GROUP BY owner_id HAVING count(owner_id) > 1)\"):\n",
    "    print(\"People Count with more than 1 PET -\", result)\n",
    "    break\n"
   ]
  },
  {
   "cell_type": "code",
   "execution_count": 20,
   "metadata": {},
   "outputs": [
    {
     "name": "stdout",
     "output_type": "stream",
     "text": [
      "[(0,), (1,)]\n",
      "Count of Pets with treatment - (36,)\n"
     ]
    }
   ],
   "source": [
    "# Step 6: Find out how many pets have recieved treatments\n",
    "# checking distinct values of treatment_done column\n",
    "cursor.execute(\"SELECT DISTINCT(treatment_done) FROM pets\")\n",
    "print(cursor.fetchall())\n",
    "# based on answer from above query assuming treatment_done =1  means treatment has been done\n",
    "for result in cursor.execute(\"SELECT count(*) FROM pets WHERE treatment_done=1\"):\n",
    "    print(\"Count of Pets with treatment -\", result)\n",
    "    break"
   ]
  },
  {
   "cell_type": "code",
   "execution_count": 21,
   "metadata": {},
   "outputs": [
    {
     "name": "stdout",
     "output_type": "stream",
     "text": [
      "Count of Pets with treatment - (16,)\n"
     ]
    }
   ],
   "source": [
    "# Step 7: Find out how many pets have recieved treatments and the type of pet is known\n",
    "# adding additional where clause for pet type not null\n",
    "for result in cursor.execute(\"SELECT count(*) FROM pets WHERE treatment_done=1 AND pet_type is not null\"):\n",
    "    print(\"Count of Pets with treatment -\", result)\n",
    "    break"
   ]
  },
  {
   "cell_type": "code",
   "execution_count": 24,
   "metadata": {},
   "outputs": [
    {
     "name": "stdout",
     "output_type": "stream",
     "text": [
      "Count of Pets from east port - (49,)\n"
     ]
    }
   ],
   "source": [
    "# Step 8: Find out how many pets are from the city call east port\n",
    "# we will need to join the table from person as city information is available in owners data\n",
    "for result in cursor.execute(\"SELECT count(*) FROM pets JOIN persons ON pets.owner_id = persons.id where persons.city='east port'\"):\n",
    "    print(\"Count of Pets from east port -\", result)\n",
    "    break"
   ]
  },
  {
   "cell_type": "code",
   "execution_count": 25,
   "metadata": {},
   "outputs": [
    {
     "name": "stdout",
     "output_type": "stream",
     "text": [
      "Count of Pets from east port - (11,)\n"
     ]
    }
   ],
   "source": [
    "# Step 9: Find out how many pets are from the city call east port and who recieved a treatment\n",
    "# adding check for pets.treatment_done = 1 to the above query\n",
    "for result in cursor.execute(\"SELECT count(*) FROM pets JOIN persons ON pets.owner_id = persons.id where persons.city='east port' AND pets.treatment_done=1\"):\n",
    "    print(\"Count of Pets from east port -\", result)\n",
    "    break\n"
   ]
  },
  {
   "cell_type": "code",
   "execution_count": null,
   "metadata": {},
   "outputs": [],
   "source": []
  }
 ],
 "metadata": {
  "kernelspec": {
   "display_name": "Python 3",
   "language": "python",
   "name": "python3"
  },
  "language_info": {
   "codemirror_mode": {
    "name": "ipython",
    "version": 3
   },
   "file_extension": ".py",
   "mimetype": "text/x-python",
   "name": "python",
   "nbconvert_exporter": "python",
   "pygments_lexer": "ipython3",
   "version": "3.8.3"
  }
 },
 "nbformat": 4,
 "nbformat_minor": 4
}
